{
 "cells": [
  {
   "cell_type": "markdown",
   "metadata": {},
   "source": [
    "### Compare libem benchmark results from 2 runs"
   ]
  },
  {
   "cell_type": "code",
   "execution_count": 17,
   "metadata": {},
   "outputs": [
    {
     "name": "stdout",
     "output_type": "stream",
     "text": [
      "0 250\n",
      "run1_only_false_pos : 0\n",
      "run1_only_false_neg : 0\n",
      "run2_only_false_pos : 0\n",
      "run2_only_false_neg : 0\n"
     ]
    }
   ],
   "source": [
    "import json\n",
    "\n",
    "run1_file = '../libem/benchmark/results/???.json'\n",
    "run2_file = '../libem/benchmark/results/???.json'\n",
    "\n",
    "runs = {}\n",
    "\n",
    "with open(run1_file, 'r') as f:\n",
    "    runs['run1'] = json.load(f)\n",
    "with open(run2_file, 'r') as f:\n",
    "    runs['run2'] = json.load(f)\n",
    "\n",
    "longer_run = 'run1' if len(runs['run1']) >= len(runs['run2']) else 'run2'\n",
    "shorter_run = 'run1' if len(runs['run1']) < len(runs['run2']) else 'run2'\n",
    "\n",
    "# hash join using dict\n",
    "run_dict = {}\n",
    "for r in runs[shorter_run]:\n",
    "    entity_info = ' '.join([str(v) for v in r['entity_1'].values()]) + ' '.join([str(v) for v in r['entity_2'].values()])\n",
    "    run_dict[entity_info] = r\n",
    "    \n",
    "    \n",
    "# process results\n",
    "results = {\n",
    "    'run1_only_false_pos': [],\n",
    "    'run1_only_false_neg': [],\n",
    "    'run2_only_false_pos': [],\n",
    "    'run2_only_false_neg': [],\n",
    "}\n",
    "\n",
    "found = 0\n",
    "for r in runs[longer_run]:\n",
    "    entity_info = ' '.join([str(v) for v in r['entity_1'].values()]) + ' '.join([str(v) for v in r['entity_2'].values()])\n",
    "    \n",
    "    if entity_info in run_dict:\n",
    "        o = run_dict[entity_info]\n",
    "        found += 1\n",
    "        \n",
    "        output = {'entity_1': r['entity_1'], 'entity_2': r['entity_2'], 'tools_used': {longer_run: r.get('tools_used', []), shorter_run: o.get('tools_used', [])}, 'label': r['label']}\n",
    "        \n",
    "        if r['pred'][0:3] == 'yes' and not o['pred'][0:3] == 'yes':\n",
    "            if r['label'] == 1:\n",
    "                results[f'{shorter_run}_only_false_neg'].append(output)\n",
    "            else:\n",
    "                results[f'{longer_run}_only_false_pos'].append(output)\n",
    "        elif o['pred'][0:3] == 'yes' and not r['pred'][0:3] == 'yes':\n",
    "            if r['label'] == 0:\n",
    "                results[f'{shorter_run}_only_false_pos'].append(output)\n",
    "            else:\n",
    "                results[f'{longer_run}_only_false_neg'].append(output)\n",
    "\n",
    "# sanity check: should be the same\n",
    "print(found, len(runs[shorter_run]))\n",
    "\n",
    "for k, v in results.items():\n",
    "    print(k, \":\", len(v))"
   ]
  },
  {
   "cell_type": "code",
   "execution_count": 16,
   "metadata": {},
   "outputs": [],
   "source": [
    "from pathlib import Path\n",
    "Path('./compare_runs_results').mkdir(parents=True, exist_ok=True)\n",
    "\n",
    "with open(f'./compare_runs_results/{run1_file[27:-5]}_vs_{run2_file[27:-5]}.json', 'w') as f:\n",
    "    json.dump(results, f, indent=4)"
   ]
  }
 ],
 "metadata": {
  "kernelspec": {
   "display_name": "spacegpt",
   "language": "python",
   "name": "python3"
  },
  "language_info": {
   "codemirror_mode": {
    "name": "ipython",
    "version": 3
   },
   "file_extension": ".py",
   "mimetype": "text/x-python",
   "name": "python",
   "nbconvert_exporter": "python",
   "pygments_lexer": "ipython3",
   "version": "3.11.5"
  }
 },
 "nbformat": 4,
 "nbformat_minor": 2
}
