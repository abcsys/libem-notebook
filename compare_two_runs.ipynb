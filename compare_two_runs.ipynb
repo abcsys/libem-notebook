{
 "cells": [
  {
   "cell_type": "markdown",
   "metadata": {},
   "source": [
    "### compare libem benchmark results from 2 runs"
   ]
  },
  {
   "cell_type": "code",
   "execution_count": null,
   "metadata": {},
   "outputs": [],
   "source": [
    "import json\n",
    "\n",
    "run1_file = '../libem/benchmark/results/2024-05-07-19-50-49.json'\n",
    "run2_file = '../libem/benchmark/results/2024-05-08-10-29-42.json'\n",
    "\n",
    "runs = {}\n",
    "\n",
    "with open(run1_file, 'r') as f:\n",
    "    runs['run1'] = json.load(f)\n",
    "with open(run2_file, 'r') as f:\n",
    "    runs['run2'] = json.load(f)\n",
    "\n",
    "longer_run = 'run1' if len(runs['run1']) >= len(runs['run2']) else 'run2'\n",
    "shorter_run = 'run1' if len(runs['run1']) < len(runs['run2']) else 'run2'\n",
    "\n",
    "# hash join using dict\n",
    "run_dict = {}\n",
    "for r in runs[shorter_run]:\n",
    "    entity_info = ' '.join([str(v) for v in r['Entity 1'].values()]) + ' '.join([str(v) for v in r['Entity 2'].values()])\n",
    "    run_dict[entity_info] = r['Match']\n",
    "    \n",
    "    \n",
    "# process results\n",
    "results = {\n",
    "    'run1_false_pos': [],\n",
    "    'run1_false_neg': [],\n",
    "    'run2_false_pos': [],\n",
    "    'run2_false_neg': [],\n",
    "}\n",
    "\n",
    "for r in runs[longer_run]:\n",
    "    entity_info = ' '.join([str(v) for v in r['Entity 1'].values()]) + ' '.join([str(v) for v in r['Entity 2'].values()])\n",
    "    \n",
    "    if entity_info in run_dict:\n",
    "        o = run_dict[entity_info]\n",
    "        output = {'Entity 1': r['Entity 1'], 'Entity 2': r['Entity 2'], 'Label': r['Label']}\n",
    "        \n",
    "        if r['Match'][0:3] == 'yes' and not o[0:3] == 'yes':\n",
    "            if r['Label'] == 1:\n",
    "                results[f'{shorter_run}_false_neg'].append(output)\n",
    "            else:\n",
    "                results[f'{longer_run}_false_pos'].append(output)\n",
    "        elif o[0:3] == 'yes' and not r['Match'][0:3] == 'yes':\n",
    "            if r['Label'] == 0:\n",
    "                results[f'{shorter_run}_false_pos'].append(output)\n",
    "            else:\n",
    "                results[f'{longer_run}_false_neg'].append(output)\n",
    "\n",
    "for k, v in results.items():\n",
    "    print(k, \":\", len(v))"
   ]
  },
  {
   "cell_type": "code",
   "execution_count": null,
   "metadata": {},
   "outputs": [],
   "source": [
    "from pathlib import Path\n",
    "Path('./compare_runs_results').mkdir(parents=True, exist_ok=True)\n",
    "\n",
    "with open(f'./compare_runs_results/{run1_file[27:-5]}_vs_{run2_file[27:-5]}.json', 'w') as f:\n",
    "    json.dump(results, f, indent=4)"
   ]
  }
 ],
 "metadata": {
  "language_info": {
   "name": "python"
  }
 },
 "nbformat": 4,
 "nbformat_minor": 2
}
