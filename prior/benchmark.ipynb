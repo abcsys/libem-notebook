{
 "cells": [
  {
   "cell_type": "code",
   "execution_count": null,
   "metadata": {},
   "outputs": [],
   "source": [
    "from openai import OpenAI\n",
    "import os\n",
    "import yaml\n",
    "import json\n",
    "\n",
    "model = OpenAI(api_key='???')"
   ]
  },
  {
   "cell_type": "markdown",
   "metadata": {},
   "source": [
    "### Reproduce results from paper repo"
   ]
  },
  {
   "cell_type": "code",
   "execution_count": null,
   "metadata": {},
   "outputs": [],
   "source": [
    "dataset_names = {\n",
    "    # 'abt-buy-sampled-gs_domain-complex-force': 'abt-buy-gs',\n",
    "    'walmart-amazon-sampled-gs_domain-complex-force': 'walmart-amazon-gs',\n",
    "    # 'amazon-google-sampled-gs_domain-complex-force': 'amazon-google-gs',\n",
    "    # 'dblp-scholar-sampled-gs_domain-complex-force': 'dblp-scholar-gs',\n",
    "    # 'wdcproducts-80cc-seen-sampled-250-gs-2_domain-complex-force': 'wdcproducts-80cc-seen-gs'\n",
    "}\n",
    "\n",
    "\n",
    "for d in dataset_names.keys():\n",
    "    \n",
    "    output = []\n",
    "\n",
    "    # read in data\n",
    "    with open(f'./LLMForEM/prompt-answer-combined/prompts_and_answers/{d}_default_gpt-4-0613_run-1.jsonl', 'r') as f:\n",
    "        lines = [json.loads(line) for line in f]\n",
    "        \n",
    "    for line in lines:\n",
    "        \n",
    "        message = [\n",
    "            {'role': 'user', 'content': line['prompt']},\n",
    "        ]\n",
    "        \n",
    "        response = model.chat.completions.create(\n",
    "            model='gpt-4-0613',\n",
    "            messages=message,\n",
    "            temperature=0\n",
    "        )\n",
    "        ans = response.choices[0].message.content\n",
    "        \n",
    "        # add to output\n",
    "        output.append({\n",
    "            \"prompt\": line['prompt'],\n",
    "            \"original_answer\": line['answer'],\n",
    "            \"answer\": response.choices[0].message.content\n",
    "        })\n",
    "    \n",
    "    with open(f\"./no-schema-gpt4/{d}_results.json\", \"w\") as out:\n",
    "            json.dump(output, out, indent=4)"
   ]
  },
  {
   "cell_type": "markdown",
   "metadata": {},
   "source": [
    "### Benchmark with schema"
   ]
  },
  {
   "cell_type": "code",
   "execution_count": null,
   "metadata": {},
   "outputs": [],
   "source": [
    "dataset_names = {\n",
    "    'abt-buy-sampled-gs_domain-complex-force': 'abt-buy-gs',\n",
    "    # 'walmart-amazon-sampled-gs_domain-complex-force': 'walmart-amazon-gs',\n",
    "    # 'amazon-google-sampled-gs_domain-complex-force': 'amazon-google-gs',\n",
    "    # 'dblp-scholar-sampled-gs_domain-complex-force': 'dblp-scholar-gs',\n",
    "    # 'dblp-acm-sampled-gs_domain-complex-force': 'dblp-acm-gs'\n",
    "    # 'wdcproducts-80cc-seen-sampled-250-gs-2_domain-complex-force': 'wdcproducts-80cc-seen-gs'\n",
    "}\n",
    "\n",
    "for name in dataset_names.values():\n",
    "    count = 0\n",
    "    with open(f\"./datasets/{name}.json\", \"r\") as f:\n",
    "        \n",
    "        output = []\n",
    "        \n",
    "        for line in f:\n",
    "        \n",
    "            # format data\n",
    "            mid_split = line.find(',\"id_right') # split 2 entities\n",
    "            right_split = line.find(',\"label') # remove label\n",
    "            left = line[0:mid_split].replace(\"_left\", \"\") + '}'\n",
    "            right = line[mid_split+1:right_split].replace(\"_right\", \"\") + '}'\n",
    "            label = line[right_split+9:right_split+10]\n",
    "            \n",
    "            # query\n",
    "            message = [\n",
    "                {'role': 'user', 'content': \"Do the two product descriptions refer to the same real-world product? Answer with 'Yes' if they do and 'No' if they do not.\"},\n",
    "                {'role': 'user', 'content': \"product 1:\" + left},\n",
    "                {'role': 'user', 'content': \"product 2:\" + right}\n",
    "            ]\n",
    "            response = model.chat.completions.create(\n",
    "                model='gpt-4-0613',\n",
    "                messages=message,\n",
    "                temperature=0\n",
    "            )\n",
    "            \n",
    "            # add to output\n",
    "            output.append({\n",
    "                \"product 1\": left,\n",
    "                \"product 2\": right,\n",
    "                \"label\": label,\n",
    "                \"response\": response.choices[0].message.content\n",
    "            })\n",
    "            count += 1\n",
    "        \n",
    "        with open(f\"./with-schema-gpt4/{name}_results.json\", \"w\") as out:\n",
    "            json.dump(output, out, indent=4)"
   ]
  }
 ],
 "metadata": {
  "language_info": {
   "name": "python"
  }
 },
 "nbformat": 4,
 "nbformat_minor": 2
}
